{
 "cells": [
  {
   "cell_type": "code",
   "execution_count": 1,
   "id": "7aafdab9",
   "metadata": {},
   "outputs": [],
   "source": [
    "import twint\n",
    "import nest_asyncio\n",
    "import pandas as pd\n",
    "\n",
    "nest_asyncio.apply()"
   ]
  },
  {
   "cell_type": "code",
   "execution_count": 2,
   "id": "07294e85",
   "metadata": {},
   "outputs": [],
   "source": [
    "c = twint.Config()\n",
    "c.Store_csv = True"
   ]
  },
  {
   "cell_type": "markdown",
   "id": "2efbd8d7",
   "metadata": {},
   "source": [
    "## Philippine Elections / General Tweets"
   ]
  },
  {
   "cell_type": "code",
   "execution_count": 3,
   "id": "f83fd105",
   "metadata": {},
   "outputs": [],
   "source": [
    "c.Search = \"philippine elections\"\n",
    "c.Output = \"ph_elections.csv\"\n",
    "c.Limit = 250000"
   ]
  },
  {
   "cell_type": "code",
   "execution_count": 4,
   "id": "f6189998",
   "metadata": {},
   "outputs": [],
   "source": [
    "%%capture\n",
    "try:\n",
    "    twint.run.Search(c)\n",
    "except Exception as e:\n",
    "    assert False, f'could not fun {c.Search}'"
   ]
  },
  {
   "cell_type": "code",
   "execution_count": 5,
   "id": "06046314",
   "metadata": {},
   "outputs": [],
   "source": [
    "c.Search = \"halalan\"\n",
    "c.Output = \"halalan.csv\""
   ]
  },
  {
   "cell_type": "code",
   "execution_count": 6,
   "id": "bdb19457",
   "metadata": {},
   "outputs": [],
   "source": [
    "%%capture\n",
    "try:\n",
    "    twint.run.Search(c)\n",
    "except Exception as e:\n",
    "    assert False, f'could not fun {c.Search}'"
   ]
  },
  {
   "cell_type": "markdown",
   "id": "05781722",
   "metadata": {},
   "source": [
    "## Candidate Names"
   ]
  },
  {
   "cell_type": "code",
   "execution_count": 7,
   "id": "4598bea2",
   "metadata": {},
   "outputs": [],
   "source": [
    "%%capture\n",
    "c.Limit = 50000\n",
    "\n",
    "candidates = ['leni', 'robredo', 'bbm', 'marcos', 'pacman', 'pacquiao', 'isko', 'moreno']\n",
    "errs = []\n",
    "\n",
    "for candidate in candidates:\n",
    "    c.Search = candidate\n",
    "    c.Output = f'./candidates/{candidate}.csv'\n",
    "    \n",
    "    try:\n",
    "        twint.run.Search(c)\n",
    "    except Exception as e:\n",
    "        errs.append((candidate, e))"
   ]
  },
  {
   "cell_type": "markdown",
   "id": "cc9a3854",
   "metadata": {},
   "source": [
    "## Hashtags"
   ]
  },
  {
   "cell_type": "code",
   "execution_count": 8,
   "id": "69af8c5a",
   "metadata": {},
   "outputs": [],
   "source": [
    "%%capture\n",
    "c.Limit = 50000\n",
    "\n",
    "hashtags = ['#LeniForPresident2022', '#KayLeniTayo', '#LeniKiko2022',\n",
    "           '#BBMSaraUNITEAM', '#BBMIsMyPresident2022', '#BBMSARA2022',]\n",
    "\n",
    "for hashtag in hashtags:\n",
    "    c.Search = hashtag\n",
    "    c.Output = f'./hashtags/{hashtag}.csv'\n",
    "    \n",
    "    try:\n",
    "        twint.run.Search(c)\n",
    "    except Exception as e:\n",
    "        errs.append((hashtag, e))"
   ]
  }
 ],
 "metadata": {
  "kernelspec": {
   "display_name": "nlp_elections",
   "language": "python",
   "name": "python3"
  },
  "language_info": {
   "codemirror_mode": {
    "name": "ipython",
    "version": 3
   },
   "file_extension": ".py",
   "mimetype": "text/x-python",
   "name": "python",
   "nbconvert_exporter": "python",
   "pygments_lexer": "ipython3",
   "version": "3.8.15 | packaged by conda-forge | (default, Jan 26 2023, 10:42:30) [MSC v.1929 64 bit (AMD64)]"
  },
  "vscode": {
   "interpreter": {
    "hash": "632a0d9eb81fa5fec1379dc19a5e552ebe5278eba4ec26ad0deb2324f235f1ef"
   }
  }
 },
 "nbformat": 4,
 "nbformat_minor": 5
}
