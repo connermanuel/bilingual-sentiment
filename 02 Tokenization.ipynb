{
 "cells": [
  {
   "cell_type": "code",
   "execution_count": 1,
   "id": "e52bc1f5",
   "metadata": {},
   "outputs": [],
   "source": [
    "from datasets import load_from_disk, ClassLabel\n",
    "from transformers import AutoTokenizer"
   ]
  },
  {
   "cell_type": "code",
   "execution_count": 2,
   "id": "384cd5b9",
   "metadata": {},
   "outputs": [
    {
     "name": "stderr",
     "output_type": "stream",
     "text": [
      "D:\\mambaforge\\envs\\nlp_urap\\lib\\site-packages\\datasets\\arrow_dataset.py:1533: FutureWarning: 'fs' was is deprecated in favor of 'storage_options' in version 2.8.0 and will be removed in 3.0.0.\n",
      "You can remove this warning by passing 'storage_options=fs.storage_options' instead.\n",
      "  warnings.warn(\n"
     ]
    },
    {
     "data": {
      "application/vnd.jupyter.widget-view+json": {
       "model_id": "62236958d9144617b527d400c6685d60",
       "version_major": 2,
       "version_minor": 0
      },
      "text/plain": [
       "Stringifying the column:   0%|          | 0/64 [00:00<?, ?ba/s]"
      ]
     },
     "metadata": {},
     "output_type": "display_data"
    },
    {
     "data": {
      "application/vnd.jupyter.widget-view+json": {
       "model_id": "4289bcea5e5742b4819cc1c70b5de7d8",
       "version_major": 2,
       "version_minor": 0
      },
      "text/plain": [
       "Casting to class labels:   0%|          | 0/64 [00:00<?, ?ba/s]"
      ]
     },
     "metadata": {},
     "output_type": "display_data"
    }
   ],
   "source": [
    "base_dataset = load_from_disk('./data/full_translated_dataset')\n",
    "base_dataset = base_dataset.rename_column(\"label\", \"labels\")\n",
    "base_dataset = base_dataset.class_encode_column(\"labels\")"
   ]
  },
  {
   "cell_type": "code",
   "execution_count": 3,
   "id": "ce996dc6",
   "metadata": {},
   "outputs": [],
   "source": [
    "base_dataset = base_dataset.train_test_split(stratify_by_column='labels', seed=306, test_size=0.1)"
   ]
  },
  {
   "cell_type": "code",
   "execution_count": 4,
   "id": "57f37a10",
   "metadata": {},
   "outputs": [],
   "source": [
    "def tokenize_sample(sample, tokenizer, text_col='text'):\n",
    "    \"\"\"Appends the result of tokenizing the specified text column to the sample.\"\"\"\n",
    "    tokenized = tokenizer(sample['text'])\n",
    "    for k in tokenized:\n",
    "        sample[k] = tokenized[k]\n",
    "    return sample"
   ]
  },
  {
   "cell_type": "markdown",
   "id": "016274b2",
   "metadata": {},
   "source": [
    "## Model 1: roberta-tagalog-base (base text)"
   ]
  },
  {
   "cell_type": "code",
   "execution_count": 5,
   "id": "2cd9b04a",
   "metadata": {},
   "outputs": [
    {
     "data": {
      "application/vnd.jupyter.widget-view+json": {
       "model_id": "28953bbb91fb4d92af7a3af597a30811",
       "version_major": 2,
       "version_minor": 0
      },
      "text/plain": [
       "Downloading (…)okenizer_config.json:   0%|          | 0.00/1.11k [00:00<?, ?B/s]"
      ]
     },
     "metadata": {},
     "output_type": "display_data"
    },
    {
     "data": {
      "application/vnd.jupyter.widget-view+json": {
       "model_id": "01ddeaf8a3b249ad819783392c914ab7",
       "version_major": 2,
       "version_minor": 0
      },
      "text/plain": [
       "Downloading (…)olve/main/vocab.json:   0%|          | 0.00/472k [00:00<?, ?B/s]"
      ]
     },
     "metadata": {},
     "output_type": "display_data"
    },
    {
     "data": {
      "application/vnd.jupyter.widget-view+json": {
       "model_id": "278772e000c7439c9d5f534fc68d0291",
       "version_major": 2,
       "version_minor": 0
      },
      "text/plain": [
       "Downloading (…)olve/main/merges.txt:   0%|          | 0.00/272k [00:00<?, ?B/s]"
      ]
     },
     "metadata": {},
     "output_type": "display_data"
    },
    {
     "data": {
      "application/vnd.jupyter.widget-view+json": {
       "model_id": "b7f0ee3358ef40ee83c2b3d5dabe57b3",
       "version_major": 2,
       "version_minor": 0
      },
      "text/plain": [
       "Downloading (…)/main/tokenizer.json:   0%|          | 0.00/804k [00:00<?, ?B/s]"
      ]
     },
     "metadata": {},
     "output_type": "display_data"
    },
    {
     "data": {
      "application/vnd.jupyter.widget-view+json": {
       "model_id": "ac48a22485f244359a4f90f636c96d28",
       "version_major": 2,
       "version_minor": 0
      },
      "text/plain": [
       "Downloading (…)cial_tokens_map.json:   0%|          | 0.00/772 [00:00<?, ?B/s]"
      ]
     },
     "metadata": {},
     "output_type": "display_data"
    }
   ],
   "source": [
    "tl_tokenizer = AutoTokenizer.from_pretrained(\"jcblaise/roberta-tagalog-base\")"
   ]
  },
  {
   "cell_type": "code",
   "execution_count": 6,
   "id": "21203fb5",
   "metadata": {},
   "outputs": [],
   "source": [
    "def process_tl(sample):\n",
    "    sample = {'text': sample['text']}\n",
    "    sample = tokenize_sample(sample, tl_tokenizer)\n",
    "    return sample"
   ]
  },
  {
   "cell_type": "code",
   "execution_count": 10,
   "id": "a9b99498",
   "metadata": {},
   "outputs": [
    {
     "name": "stderr",
     "output_type": "stream",
     "text": [
      "Loading cached processed dataset at E:\\Projects\\Elections\\data\\full_translated_dataset\\cache-a9a2e56f6b89246f.arrow\n",
      "Loading cached processed dataset at E:\\Projects\\Elections\\data\\full_translated_dataset\\cache-d38c05faebcbbcfd.arrow\n"
     ]
    }
   ],
   "source": [
    "dataset_1 = base_dataset.map(process_tl, batched=True)\n",
    "# dataset_1 = dataset_1.remove_columns(['text', 'en_translation', 'lang', 'tl_translation'])"
   ]
  },
  {
   "cell_type": "code",
   "execution_count": 11,
   "id": "18c0ee72",
   "metadata": {},
   "outputs": [
    {
     "data": {
      "application/vnd.jupyter.widget-view+json": {
       "model_id": "",
       "version_major": 2,
       "version_minor": 0
      },
      "text/plain": [
       "Saving the dataset (0/1 shards):   0%|          | 0/57401 [00:00<?, ? examples/s]"
      ]
     },
     "metadata": {},
     "output_type": "display_data"
    },
    {
     "data": {
      "application/vnd.jupyter.widget-view+json": {
       "model_id": "",
       "version_major": 2,
       "version_minor": 0
      },
      "text/plain": [
       "Saving the dataset (0/1 shards):   0%|          | 0/6378 [00:00<?, ? examples/s]"
      ]
     },
     "metadata": {},
     "output_type": "display_data"
    }
   ],
   "source": [
    "dataset_1.save_to_disk('data/dataset_1')"
   ]
  },
  {
   "cell_type": "markdown",
   "id": "8214db47",
   "metadata": {},
   "source": [
    "## Model 2: XLM-RoBERTa-base"
   ]
  },
  {
   "cell_type": "code",
   "execution_count": 12,
   "id": "405cdd1f",
   "metadata": {},
   "outputs": [
    {
     "data": {
      "application/vnd.jupyter.widget-view+json": {
       "model_id": "b5fb702a706d4ac2ba33eb96b269cc51",
       "version_major": 2,
       "version_minor": 0
      },
      "text/plain": [
       "Downloading (…)lve/main/config.json:   0%|          | 0.00/615 [00:00<?, ?B/s]"
      ]
     },
     "metadata": {},
     "output_type": "display_data"
    },
    {
     "data": {
      "application/vnd.jupyter.widget-view+json": {
       "model_id": "f1c051ca76bd45e68ae47422afb8d436",
       "version_major": 2,
       "version_minor": 0
      },
      "text/plain": [
       "Downloading (…)tencepiece.bpe.model:   0%|          | 0.00/5.07M [00:00<?, ?B/s]"
      ]
     },
     "metadata": {},
     "output_type": "display_data"
    },
    {
     "data": {
      "application/vnd.jupyter.widget-view+json": {
       "model_id": "e3959ede91884c41be89a3c82ff42361",
       "version_major": 2,
       "version_minor": 0
      },
      "text/plain": [
       "Downloading (…)/main/tokenizer.json:   0%|          | 0.00/9.10M [00:00<?, ?B/s]"
      ]
     },
     "metadata": {},
     "output_type": "display_data"
    }
   ],
   "source": [
    "xlm_tokenizer = AutoTokenizer.from_pretrained(\"xlm-roberta-base\")"
   ]
  },
  {
   "cell_type": "code",
   "execution_count": 13,
   "id": "11e7adc6",
   "metadata": {},
   "outputs": [],
   "source": [
    "process_xlm = lambda sample: tokenize_sample(sample, xlm_tokenizer)"
   ]
  },
  {
   "cell_type": "code",
   "execution_count": 14,
   "id": "b9295062",
   "metadata": {},
   "outputs": [
    {
     "data": {
      "application/vnd.jupyter.widget-view+json": {
       "model_id": "73d6988aa62b4da1a7b70d3eb9959fa7",
       "version_major": 2,
       "version_minor": 0
      },
      "text/plain": [
       "  0%|          | 0/58 [00:00<?, ?ba/s]"
      ]
     },
     "metadata": {},
     "output_type": "display_data"
    },
    {
     "data": {
      "application/vnd.jupyter.widget-view+json": {
       "model_id": "ced36de50cea484b99c40fb2af415682",
       "version_major": 2,
       "version_minor": 0
      },
      "text/plain": [
       "  0%|          | 0/7 [00:00<?, ?ba/s]"
      ]
     },
     "metadata": {},
     "output_type": "display_data"
    }
   ],
   "source": [
    "dataset_2 = base_dataset.map(process_xlm, batched=True)\n",
    "# dataset_2 = dataset_2.remove_columns(['text', 'en_translation', 'lang', 'tl_translation'])"
   ]
  },
  {
   "cell_type": "code",
   "execution_count": 15,
   "id": "42483db1",
   "metadata": {},
   "outputs": [
    {
     "data": {
      "application/vnd.jupyter.widget-view+json": {
       "model_id": "",
       "version_major": 2,
       "version_minor": 0
      },
      "text/plain": [
       "Saving the dataset (0/1 shards):   0%|          | 0/57401 [00:00<?, ? examples/s]"
      ]
     },
     "metadata": {},
     "output_type": "display_data"
    },
    {
     "data": {
      "application/vnd.jupyter.widget-view+json": {
       "model_id": "",
       "version_major": 2,
       "version_minor": 0
      },
      "text/plain": [
       "Saving the dataset (0/1 shards):   0%|          | 0/6378 [00:00<?, ? examples/s]"
      ]
     },
     "metadata": {},
     "output_type": "display_data"
    }
   ],
   "source": [
    "dataset_2.save_to_disk('data/dataset_2')"
   ]
  },
  {
   "cell_type": "markdown",
   "id": "4c37eaa8",
   "metadata": {},
   "source": [
    "## Model 3: bert-base-uncased"
   ]
  },
  {
   "cell_type": "code",
   "execution_count": 16,
   "id": "c7172b9b",
   "metadata": {},
   "outputs": [],
   "source": [
    "en_tokenizer = AutoTokenizer.from_pretrained(\"bert-base-uncased\")"
   ]
  },
  {
   "cell_type": "code",
   "execution_count": 17,
   "id": "d8469e68",
   "metadata": {},
   "outputs": [],
   "source": [
    "process_en = lambda sample: tokenize_sample(sample, en_tokenizer)"
   ]
  },
  {
   "cell_type": "code",
   "execution_count": 18,
   "id": "406ab761",
   "metadata": {},
   "outputs": [
    {
     "data": {
      "application/vnd.jupyter.widget-view+json": {
       "model_id": "4e219a5e7790407697b8374770aa03a3",
       "version_major": 2,
       "version_minor": 0
      },
      "text/plain": [
       "  0%|          | 0/58 [00:00<?, ?ba/s]"
      ]
     },
     "metadata": {},
     "output_type": "display_data"
    },
    {
     "data": {
      "application/vnd.jupyter.widget-view+json": {
       "model_id": "c96ee5d12270468d9b201a3d28888929",
       "version_major": 2,
       "version_minor": 0
      },
      "text/plain": [
       "  0%|          | 0/7 [00:00<?, ?ba/s]"
      ]
     },
     "metadata": {},
     "output_type": "display_data"
    }
   ],
   "source": [
    "dataset_3 = base_dataset.map(process_en, batched=True)\n",
    "# dataset_3 = dataset_3.remove_columns(['text', 'en_translation', 'lang', 'tl_translation'])"
   ]
  },
  {
   "cell_type": "code",
   "execution_count": 19,
   "id": "2f94d755",
   "metadata": {},
   "outputs": [
    {
     "data": {
      "application/vnd.jupyter.widget-view+json": {
       "model_id": "",
       "version_major": 2,
       "version_minor": 0
      },
      "text/plain": [
       "Saving the dataset (0/1 shards):   0%|          | 0/57401 [00:00<?, ? examples/s]"
      ]
     },
     "metadata": {},
     "output_type": "display_data"
    },
    {
     "data": {
      "application/vnd.jupyter.widget-view+json": {
       "model_id": "",
       "version_major": 2,
       "version_minor": 0
      },
      "text/plain": [
       "Saving the dataset (0/1 shards):   0%|          | 0/6378 [00:00<?, ? examples/s]"
      ]
     },
     "metadata": {},
     "output_type": "display_data"
    }
   ],
   "source": [
    "dataset_3.save_to_disk('data/dataset_3')"
   ]
  },
  {
   "cell_type": "markdown",
   "id": "08a37bdc",
   "metadata": {},
   "source": [
    "## Model 4: Bilingual, Non-Translated"
   ]
  },
  {
   "cell_type": "code",
   "execution_count": 20,
   "id": "bc3ac8a8",
   "metadata": {},
   "outputs": [],
   "source": [
    "def tokenize_bilingual(sample, tl_tokenizer=tl_tokenizer, en_tokenizer=en_tokenizer, tl_col='text', en_col='text'):\n",
    "    \"\"\"Appends the result of tokenizing the specified text column to the sample.\"\"\"\n",
    "    tl_tokenized = tl_tokenizer(sample[tl_col])\n",
    "    for k in tl_tokenized:\n",
    "        sample[f'tl_{k}'] = tl_tokenized[k]\n",
    "    en_tokenized = en_tokenizer(sample[en_col])\n",
    "    for k in en_tokenized:\n",
    "        sample[f'en_{k}'] = en_tokenized[k]\n",
    "    return sample"
   ]
  },
  {
   "cell_type": "code",
   "execution_count": 21,
   "id": "e7de8bf5",
   "metadata": {},
   "outputs": [
    {
     "data": {
      "application/vnd.jupyter.widget-view+json": {
       "model_id": "8cc6437a87f24cec840614fa150d0678",
       "version_major": 2,
       "version_minor": 0
      },
      "text/plain": [
       "  0%|          | 0/58 [00:00<?, ?ba/s]"
      ]
     },
     "metadata": {},
     "output_type": "display_data"
    },
    {
     "data": {
      "application/vnd.jupyter.widget-view+json": {
       "model_id": "3bc506a8f13540d8b282ead0a74365e8",
       "version_major": 2,
       "version_minor": 0
      },
      "text/plain": [
       "  0%|          | 0/7 [00:00<?, ?ba/s]"
      ]
     },
     "metadata": {},
     "output_type": "display_data"
    }
   ],
   "source": [
    "dataset_4 = base_dataset.map(tokenize_bilingual, batched=True)\n",
    "# dataset_4 = dataset_4.remove_columns(['text', 'en_translation', 'lang', 'tl_translation'])"
   ]
  },
  {
   "cell_type": "code",
   "execution_count": 22,
   "id": "ae5d457e",
   "metadata": {},
   "outputs": [
    {
     "data": {
      "application/vnd.jupyter.widget-view+json": {
       "model_id": "",
       "version_major": 2,
       "version_minor": 0
      },
      "text/plain": [
       "Saving the dataset (0/1 shards):   0%|          | 0/57401 [00:00<?, ? examples/s]"
      ]
     },
     "metadata": {},
     "output_type": "display_data"
    },
    {
     "data": {
      "application/vnd.jupyter.widget-view+json": {
       "model_id": "",
       "version_major": 2,
       "version_minor": 0
      },
      "text/plain": [
       "Saving the dataset (0/1 shards):   0%|          | 0/6378 [00:00<?, ? examples/s]"
      ]
     },
     "metadata": {},
     "output_type": "display_data"
    }
   ],
   "source": [
    "dataset_4.save_to_disk('data/dataset_4')"
   ]
  },
  {
   "cell_type": "markdown",
   "id": "b89b7f8f",
   "metadata": {},
   "source": [
    "## Model 5: Bilingual, Half-Translated"
   ]
  },
  {
   "cell_type": "code",
   "execution_count": 23,
   "id": "e9d10d3c",
   "metadata": {},
   "outputs": [],
   "source": [
    "def half_translate(sample):\n",
    "    if sample['lang'] == 'fil':\n",
    "        sample = tokenize_bilingual(sample, en_col = 'en_translation')\n",
    "    elif sample['lang'] == 'en':\n",
    "        sample = tokenize_bilingual(sample, tl_col = 'tl_translation')\n",
    "    else:\n",
    "        sample = tokenize_bilingual(sample, en_col = 'en_translation', tl_col = 'tl_translation')\n",
    "    return sample"
   ]
  },
  {
   "cell_type": "code",
   "execution_count": 24,
   "id": "b0ad07cd",
   "metadata": {},
   "outputs": [
    {
     "data": {
      "application/vnd.jupyter.widget-view+json": {
       "model_id": "e8957bd82e4c45399de3fceb57bf5d0d",
       "version_major": 2,
       "version_minor": 0
      },
      "text/plain": [
       "  0%|          | 0/57401 [00:00<?, ?ex/s]"
      ]
     },
     "metadata": {},
     "output_type": "display_data"
    },
    {
     "data": {
      "application/vnd.jupyter.widget-view+json": {
       "model_id": "f45c79616f8946c5976d4899c54a6b60",
       "version_major": 2,
       "version_minor": 0
      },
      "text/plain": [
       "  0%|          | 0/6378 [00:00<?, ?ex/s]"
      ]
     },
     "metadata": {},
     "output_type": "display_data"
    }
   ],
   "source": [
    "dataset_5 = base_dataset.map(half_translate)\n",
    "# dataset_5 = dataset_5.remove_columns(['text', 'en_translation', 'lang', 'tl_translation'])"
   ]
  },
  {
   "cell_type": "code",
   "execution_count": 25,
   "id": "59e46971",
   "metadata": {},
   "outputs": [
    {
     "data": {
      "application/vnd.jupyter.widget-view+json": {
       "model_id": "",
       "version_major": 2,
       "version_minor": 0
      },
      "text/plain": [
       "Saving the dataset (0/1 shards):   0%|          | 0/57401 [00:00<?, ? examples/s]"
      ]
     },
     "metadata": {},
     "output_type": "display_data"
    },
    {
     "data": {
      "application/vnd.jupyter.widget-view+json": {
       "model_id": "",
       "version_major": 2,
       "version_minor": 0
      },
      "text/plain": [
       "Saving the dataset (0/1 shards):   0%|          | 0/6378 [00:00<?, ? examples/s]"
      ]
     },
     "metadata": {},
     "output_type": "display_data"
    }
   ],
   "source": [
    "dataset_5.save_to_disk('data/dataset_5')"
   ]
  },
  {
   "cell_type": "markdown",
   "id": "095968bb",
   "metadata": {},
   "source": [
    "## Model 6: Bilingual, Fully Translated"
   ]
  },
  {
   "cell_type": "code",
   "execution_count": 26,
   "id": "7bea53e2",
   "metadata": {},
   "outputs": [],
   "source": [
    "full_translate = lambda sample: tokenize_bilingual(sample, en_col = 'en_translation', tl_col = 'tl_translation')"
   ]
  },
  {
   "cell_type": "code",
   "execution_count": 27,
   "id": "d770b7f1",
   "metadata": {},
   "outputs": [
    {
     "data": {
      "application/vnd.jupyter.widget-view+json": {
       "model_id": "7e630b2250e64abe88be42a327fecdfb",
       "version_major": 2,
       "version_minor": 0
      },
      "text/plain": [
       "  0%|          | 0/57401 [00:00<?, ?ex/s]"
      ]
     },
     "metadata": {},
     "output_type": "display_data"
    },
    {
     "data": {
      "application/vnd.jupyter.widget-view+json": {
       "model_id": "fd0a12542507462faff13ab25bb45daf",
       "version_major": 2,
       "version_minor": 0
      },
      "text/plain": [
       "  0%|          | 0/6378 [00:00<?, ?ex/s]"
      ]
     },
     "metadata": {},
     "output_type": "display_data"
    }
   ],
   "source": [
    "dataset_6 = base_dataset.map(full_translate)\n",
    "# dataset_6 = dataset_6.remove_columns(['text', 'en_translation', 'lang', 'tl_translation'])"
   ]
  },
  {
   "cell_type": "code",
   "execution_count": 28,
   "id": "4cb828ca",
   "metadata": {},
   "outputs": [
    {
     "data": {
      "application/vnd.jupyter.widget-view+json": {
       "model_id": "85df49dd9a1143fea7898537fb040ecd",
       "version_major": 2,
       "version_minor": 0
      },
      "text/plain": [
       "Saving the dataset (0/1 shards):   0%|          | 0/57401 [00:00<?, ? examples/s]"
      ]
     },
     "metadata": {},
     "output_type": "display_data"
    },
    {
     "data": {
      "application/vnd.jupyter.widget-view+json": {
       "model_id": "54744b2a60a64a3aa795842521ab9ae5",
       "version_major": 2,
       "version_minor": 0
      },
      "text/plain": [
       "Saving the dataset (0/1 shards):   0%|          | 0/6378 [00:00<?, ? examples/s]"
      ]
     },
     "metadata": {},
     "output_type": "display_data"
    }
   ],
   "source": [
    "dataset_6.save_to_disk('data/dataset_6')"
   ]
  }
 ],
 "metadata": {
  "kernelspec": {
   "display_name": "Python 3 (ipykernel)",
   "language": "python",
   "name": "python3"
  },
  "language_info": {
   "codemirror_mode": {
    "name": "ipython",
    "version": 3
   },
   "file_extension": ".py",
   "mimetype": "text/x-python",
   "name": "python",
   "nbconvert_exporter": "python",
   "pygments_lexer": "ipython3",
   "version": "3.8.15"
  },
  "vscode": {
   "interpreter": {
    "hash": "632a0d9eb81fa5fec1379dc19a5e552ebe5278eba4ec26ad0deb2324f235f1ef"
   }
  }
 },
 "nbformat": 4,
 "nbformat_minor": 5
}
